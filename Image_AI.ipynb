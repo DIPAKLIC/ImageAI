{
  "nbformat": 4,
  "nbformat_minor": 0,
  "metadata": {
    "colab": {
      "name": "Image AI.ipynb",
      "provenance": [],
      "collapsed_sections": [
        "X68YI-dFxEHY",
        "mZB8TP-GyIIK",
        "x5_kWbod1xQ0",
        "tw_hXe2LLtjw"
      ],
      "authorship_tag": "ABX9TyM+7/IcBIPVXOLBcZAcPiII",
      "include_colab_link": true
    },
    "kernelspec": {
      "display_name": "Python 3",
      "name": "python3"
    },
    "language_info": {
      "name": "python"
    }
  },
  "cells": [
    {
      "cell_type": "markdown",
      "metadata": {
        "id": "view-in-github",
        "colab_type": "text"
      },
      "source": [
        "<a href=\"https://colab.research.google.com/github/DIPAKLIC/ImageAI/blob/main/Image_AI.ipynb\" target=\"_parent\"><img src=\"https://colab.research.google.com/assets/colab-badge.svg\" alt=\"Open In Colab\"/></a>"
      ]
    },
    {
      "cell_type": "markdown",
      "metadata": {
        "id": "us3sTaIOMk3B"
      },
      "source": [
        "\n",
        "\n",
        "# **<center><u>Image AI</u></center>**\n",
        "### *This is a program to predict the best image from a bunch of images.*\n",
        "\n",
        "---\n",
        "\n",
        "\n",
        "\n",
        "### *Tips to get started:-*\n",
        "\n",
        "*1) Each time the runtime resets you need to run the first cell <b>\" 1) Setup Environment \"</b>*\n",
        "\n",
        "*2) Upload the images by running the second cell<b>\" 2) Upload Images \"</b>*\n",
        "\n",
        "*3) After the images are uploaded run the third cell<b>\" 3) Predict \"</b>*\n",
        "\n",
        "*4) The best image predicted will be shown with its location.*\n",
        "\n",
        "*5) If you want to run the program again run or clear the uploaded images the fourth cell <b>\" 4) Clear Data Folder \"</b> to clear the data files. (optional)*\n",
        "\n"
      ]
    },
    {
      "cell_type": "markdown",
      "metadata": {
        "id": "X68YI-dFxEHY"
      },
      "source": [
        "## **1) Setup Environment**"
      ]
    },
    {
      "cell_type": "code",
      "metadata": {
        "id": "gz4wmmIYxGK3"
      },
      "source": [
        "!pip install torch opencv-python\n",
        "!git clone https://github.com/DIPAKLIC/ImageAI.git\n",
        "import os\n",
        "image_path = r'ImageAI/Images' \n",
        "if not os.path.exists(image_path):\n",
        "    os.makedirs(image_path)"
      ],
      "execution_count": null,
      "outputs": []
    },
    {
      "cell_type": "markdown",
      "metadata": {
        "id": "mZB8TP-GyIIK"
      },
      "source": [
        "## **2) Upload Images**"
      ]
    },
    {
      "cell_type": "code",
      "metadata": {
        "id": "5NtrEGAYyVle"
      },
      "source": [
        "from google.colab import files\n",
        "import shutil\n",
        "\n",
        "uploaded = files.upload()\n",
        "for file in uploaded:\n",
        "  shutil.move(file, 'ImageAI/Images')"
      ],
      "execution_count": null,
      "outputs": []
    },
    {
      "cell_type": "markdown",
      "metadata": {
        "id": "x5_kWbod1xQ0"
      },
      "source": [
        "## **3) Predict**"
      ]
    },
    {
      "cell_type": "code",
      "metadata": {
        "colab": {
          "background_save": true
        },
        "id": "n-vBBw3f14wj"
      },
      "source": [
        "import argparse\n",
        "import torch\n",
        "import torchvision.models\n",
        "import torchvision.transforms as transforms\n",
        "import glob\n",
        "from PIL import Image\n",
        "import cv2\n",
        "from google.colab.patches import cv2_imshow\n",
        "from IPython.display import Image as show_image\n",
        "device = torch.device('cuda' if torch.cuda.is_available() else 'cpu')\n",
        "\n",
        "addr=[]\n",
        "val=[]\n",
        "def prepare_image(image):\n",
        "    if image.mode != 'RGB':\n",
        "        image = image.convert(\"RGB\")\n",
        "    Transform = transforms.Compose([\n",
        "            transforms.Resize([224,224]),      \n",
        "            transforms.ToTensor(),\n",
        "            ])\n",
        "    image = Transform(image)   \n",
        "    image = image.unsqueeze(0)\n",
        "    return image.to(device)\n",
        "\n",
        "def predict(image, model, item):\n",
        "    image = prepare_image(image)\n",
        "    with torch.no_grad():\n",
        "        preds = model(image)\n",
        "    print(item + \"'s \" r'rating is: %.2f' % preds.item())\n",
        "    localValue = '%.2f' % preds.item()\n",
        "    addr.append(item)\n",
        "    val.append(localValue)\n",
        "\n",
        "files = glob.glob(\"ImageAI/Images/*.*\")\n",
        "print(\"Please wait for the program to predict, It might take a while depending on the device's performance\")\n",
        "for item in files: \n",
        "    parser = argparse.ArgumentParser()\n",
        "    image = Image.open(item)\n",
        "    model = torchvision.models.resnet50()\n",
        "    model.fc = torch.nn.Linear(in_features=2048, out_features=1)\n",
        "    model.load_state_dict(torch.load('ImageAI/model/model-resnet50.pth', map_location=device)) \n",
        "    model.eval().to(device)\n",
        "    predict(image, model, item)\n",
        "maxVal = max(val);\n",
        "index = val.index(maxVal)\n",
        "location = addr[index]\n",
        "img = cv2.imread(location, cv2.IMREAD_UNCHANGED)\n",
        "cv2_imshow(img)\n",
        "print('The best image is '+'\"'+ location + '\"' + ' with a predicted rating of '+maxVal)"
      ],
      "execution_count": null,
      "outputs": []
    },
    {
      "cell_type": "markdown",
      "metadata": {
        "id": "tw_hXe2LLtjw"
      },
      "source": [
        "## **4) Clear Data Folder**"
      ]
    },
    {
      "cell_type": "code",
      "metadata": {
        "id": "DlfY-pfPMAAf"
      },
      "source": [
        "#Function to clear the data folders\n",
        "def clearImg():\n",
        "    tmpFiles = glob.glob('ImageAI/Images/*.*')\n",
        "    for file in tmpFiles:\n",
        "        os.remove(file)\n",
        "\n",
        "clearImg()"
      ],
      "execution_count": null,
      "outputs": []
    }
  ]
}